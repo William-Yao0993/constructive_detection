{
 "cells": [
  {
   "cell_type": "code",
   "execution_count": 2,
   "metadata": {},
   "outputs": [
    {
     "name": "stdout",
     "output_type": "stream",
     "text": [
      "Collecting labelme2yolo\n",
      "  Downloading labelme2yolo-0.1.3-py3-none-any.whl.metadata (4.9 kB)\n",
      "Requirement already satisfied: numpy<1.27.0,>=1.23.1 in c:\\users\\u6771897\\lib\\site-packages (from labelme2yolo) (1.26.2)\n",
      "Requirement already satisfied: opencv-python>=4.1.2 in c:\\users\\u6771897\\lib\\site-packages (from labelme2yolo) (4.8.1.78)\n",
      "Collecting pillow<10.1,>=9.2 (from labelme2yolo)\n",
      "  Downloading Pillow-10.0.1-cp311-cp311-win_amd64.whl.metadata (9.6 kB)\n",
      "Downloading labelme2yolo-0.1.3-py3-none-any.whl (8.7 kB)\n",
      "Downloading Pillow-10.0.1-cp311-cp311-win_amd64.whl (2.5 MB)\n",
      "   ---------------------------------------- 0.0/2.5 MB ? eta -:--:--\n",
      "   ---------------------------------------- 0.0/2.5 MB ? eta -:--:--\n",
      "   ---- ----------------------------------- 0.3/2.5 MB 3.4 MB/s eta 0:00:01\n",
      "   ---------- ----------------------------- 0.6/2.5 MB 5.1 MB/s eta 0:00:01\n",
      "   ------------------- -------------------- 1.2/2.5 MB 7.8 MB/s eta 0:00:01\n",
      "   -------------------------------- ------- 2.0/2.5 MB 9.9 MB/s eta 0:00:01\n",
      "   ---------------------------------------  2.5/2.5 MB 10.7 MB/s eta 0:00:01\n",
      "   ---------------------------------------- 2.5/2.5 MB 9.4 MB/s eta 0:00:00\n",
      "Installing collected packages: pillow, labelme2yolo\n",
      "  Attempting uninstall: pillow\n",
      "    Found existing installation: Pillow 10.1.0\n",
      "    Uninstalling Pillow-10.1.0:\n",
      "      Successfully uninstalled Pillow-10.1.0\n",
      "Successfully installed labelme2yolo-0.1.3 pillow-10.0.1\n",
      "Note: you may need to restart the kernel to use updated packages.\n"
     ]
    },
    {
     "name": "stderr",
     "output_type": "stream",
     "text": [
      "  WARNING: The script labelme2yolo.exe is installed in 'c:\\Users\\u6771897\\Scripts' which is not on PATH.\n",
      "  Consider adding this directory to PATH or, if you prefer to suppress this warning, use --no-warn-script-location.\n"
     ]
    }
   ],
   "source": [
    "%pip install labelme2yolo"
   ]
  },
  {
   "cell_type": "code",
   "execution_count": 10,
   "metadata": {},
   "outputs": [
    {
     "name": "stderr",
     "output_type": "stream",
     "text": [
      "UsageError: Line magic function `%labelme2yolo` not found.\n"
     ]
    }
   ],
   "source": [
    "%labelme2yolo --json_dir datasets --json_name \"datasets\\data.json\" -- val_size 0.15 -- test_size 0.15"
   ]
  }
 ],
 "metadata": {
  "kernelspec": {
   "display_name": "Python 3",
   "language": "python",
   "name": "python3"
  },
  "language_info": {
   "codemirror_mode": {
    "name": "ipython",
    "version": 3
   },
   "file_extension": ".py",
   "mimetype": "text/x-python",
   "name": "python",
   "nbconvert_exporter": "python",
   "pygments_lexer": "ipython3",
   "version": "3.11.6"
  }
 },
 "nbformat": 4,
 "nbformat_minor": 2
}
